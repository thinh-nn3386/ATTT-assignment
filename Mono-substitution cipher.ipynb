{
 "cells": [
  {
   "cell_type": "markdown",
   "metadata": {},
   "source": [
    "## Fitness Measure\n",
    "\n",
    "What we need is a way of determining if a piece of text which we decrypted is very similar to English. This is achieved by counting 'quadgrams' (also known as 'tetragraphs'), or groups of 4 letters.\n",
    "\n",
    "e.g. the quadgrams in the text `ATTACK` are: `ATTA`, `TTAC`, and `TACK`. (single letter frequencies, bigrams and trigrams can also be used for this purpose.)\n",
    "For the text `ATTACK`, the quadgrams are `ATTA`, `TTAC`, and `TACK`. The total probability is\n",
    "\n",
    "`P(ATTACK) = p(ATTA)*p(TTAC)*p(TACK)`\n",
    "\n",
    "`p(ATTA) = count(ATTA)/N`\n",
    "\n",
    "`count(ATTA)` is number of times the particular quandgram occured\n",
    "\n",
    "`N` is the total number of quadgrams in the trainning sample\n",
    "\n",
    "### *fitness* \n",
    "Log probability of a piece of text, a higher number means it is more likely to be English, while a lower number means it is less likely to be English.\n",
    "\n",
    "`log(p(ATTACK)) = log(p(ATTA)) + log(p(TTAC)) + log(p(TACK))`\n",
    "\n",
    "\n"
   ]
  },
  {
   "cell_type": "code",
   "execution_count": 19,
   "metadata": {},
   "outputs": [],
   "source": [
    "from math import log10\n",
    "\n",
    "class ngram_score(object):\n",
    "    def __init__(self,ngramfile,sep=' '):\n",
    "        ''' load a file containing ngrams and counts, calculate log probabilities '''\n",
    "        self.ngrams = {}\n",
    "        for line in open(ngramfile):\n",
    "            key,count = line.split(sep) \n",
    "            self.ngrams[key] = int(count)\n",
    "        self.L = len(key)\n",
    "        self.N = sum(self.ngrams.values())\n",
    "        #calculate log probabilities\n",
    "        for key in self.ngrams.keys():\n",
    "            self.ngrams[key] = log10(float(self.ngrams[key])/self.N)\n",
    "        self.floor = log10(0.01/self.N)\n",
    "\n",
    "    def score(self,text):\n",
    "        ''' compute the score(fitness) of text '''\n",
    "        score = 0\n",
    "        ngrams = self.ngrams.__getitem__\n",
    "        for i in range(len(text)-self.L+1):\n",
    "            if text[i:i+self.L] in self.ngrams: score += ngrams(text[i:i+self.L])\n",
    "            else: score += self.floor          \n",
    "        return score\n",
    "       \n"
   ]
  },
  {
   "cell_type": "code",
   "execution_count": 23,
   "metadata": {},
   "outputs": [
    {
     "name": "stdout",
     "output_type": "stream",
     "text": [
      "best candidate with key (a,b) = -227.95358542943333:\n",
      "THECAESARCIPHERISONEOFTHEEARLIESTKNOWNANDSIMPLESTCIPHERS\n"
     ]
    }
   ],
   "source": [
    "import re\n",
    "\n",
    "fitness = ngram_score('english_quadgrams.txt') # load our quadgram statistics\n",
    "from pycipher import Caesar\n",
    "      \n",
    "def break_caesar(ctext):\n",
    "    # make sure ciphertext has all spacing/punc removed and is uppercase\n",
    "    ctext = re.sub('[^A-Z]','',ctext.upper())\n",
    "    # try all possible keys, return the one with the highest fitness\n",
    "    scores = []\n",
    "    for i in range(26):\n",
    "        scores.append((fitness.score(Caesar(i).decipher(ctext)),i))\n",
    "    return max(scores)\n",
    "    \n",
    "# example ciphertext\n",
    "ctext = 'YMJHFJXFWHNUMJWNXTSJTKYMJJFWQNJXYPSTBSFSIXNRUQJXYHNUMJWX'\n",
    "max_key = break_caesar(ctext)\n",
    "\n",
    "print('best candidate with key (a,b) = '+str(max_key[0])+':')\n",
    "print(Caesar(max_key[1]).decipher(ctext))\n",
    "\n",
    "\n",
    "\n"
   ]
  },
  {
   "cell_type": "markdown",
   "metadata": {},
   "source": [
    "# Mono-substitution cipher"
   ]
  },
  {
   "cell_type": "code",
   "execution_count": 2,
   "metadata": {},
   "outputs": [
    {
     "data": {
      "text/plain": [
       "'GIUIFGCEIIPRCTPNNDUCEIQPRCNI'"
      ]
     },
     "execution_count": 2,
     "metadata": {},
     "output_type": "execute_result"
    }
   ],
   "source": [
    "from pycipher import SimpleSubstitution\n",
    "ss = SimpleSubstitution('phqgiumeaylnofdxjkrcvstzwb')\n",
    "ss.encipher('defend the east wall of the castle')\n"
   ]
  },
  {
   "cell_type": "code",
   "execution_count": 3,
   "metadata": {},
   "outputs": [
    {
     "data": {
      "text/plain": [
       "'DEFENDTHEEASTWALLOFTHECASTLE'"
      ]
     },
     "execution_count": 3,
     "metadata": {},
     "output_type": "execute_result"
    }
   ],
   "source": [
    "ss.decipher('GIUIFGCEIIPRCTPNNDUCEIQPRCNI')"
   ]
  },
  {
   "cell_type": "markdown",
   "metadata": {},
   "source": [
    "# Break Mono-substitution cipher"
   ]
  },
  {
   "cell_type": "markdown",
   "metadata": {},
   "source": [
    "# `Hill-climbing` Algorithm\n",
    "The hill-climbing algorithm looks like this:\n",
    "\n",
    "1. Generate a random key, called the 'parent', decipher the ciphertext using this key. Rate the fitness of the deciphered text, store the result.\n",
    "2. Change the key slightly (swap two characters in the key at random), measure the fitness of the deciphered text using the new key.\n",
    "3. If the fitness is higher with the modified key, discard our old parent and store the modified key as the new parent.\n",
    "4. Go back to 2, unless no improvement in fitness occurred in the last 1000 iterations.\n",
    "\n",
    "As this cycle proceeds, the deciphered text gets fitter and fitter, the key becomes better until either the solution appears, or, the solution is not found. In this case the run has failed and must be repeated with a different starting key. This means the hill-climbing algorithm is stuck in a 'local maximum', where there are no simple changes that can be made to the key to improve fitness, and yet it is not at the true solution. If this happens you can run the algorithm again with a different parent in the hope it may reach the true solution this time. In the implementation below, we may restart the algorithm 100's of times in the search for the best key."
   ]
  },
  {
   "cell_type": "code",
   "execution_count": null,
   "metadata": {},
   "outputs": [],
   "source": [
    "import random\n",
    "import re\n",
    "\n",
    "ctext=\"\"\"SOWFBRKAWFCZFSBSCSBQITBKOWLBFXTBKOWLSOXSOXFZWWIBICFWUQLRXINOCIJLWJFQUNWXLFBSZXFBT\n",
    "XAANTQIFBFSFQUFCZFSBSCSBIMWHWLNKAXBISWGSTOXLXTSWLUQLXJBUUWLWISTBKOWLSWGSTOXLXTSWL\n",
    "BSJBUUWLFULQRTXWFXLTBKOWLBISOXSSOWTBKOWLXAKOXZWSBFIQSFBRKANSOWXAKOXZWSFOBUSWJBSBF\n",
    "TQRKAWSWANECRZAWJ\n",
    "\"\"\"\n",
    "ctext = re.sub('[^A-Z]','',ctext.upper())\n",
    "\n",
    "maxkey = list('ABCDEFGHIJKLMNOPQRSTUVWXYZ')\n",
    "maxscore = -99e9\n",
    "parentscore,parentkey = maxscore,maxkey[:]\n",
    "print(\"Substitution Cipher solver, you may have to wait several iterations\")\n",
    "print (\"for the correct result. Press ctrl+c to exit program.\")\n",
    "# keep going until we are killed by the user\n",
    "i = 0\n",
    "while 1:\n",
    "    i = i+1\n",
    "    random.shuffle(parentkey)\n",
    "    deciphered = SimpleSub(parentkey).decipher(ctext)\n",
    "    parentscore = fitness.score(deciphered)\n",
    "    count = 0\n",
    "    while count < 100:\n",
    "        a = random.randint(0,25)\n",
    "        b = random.randint(0,25)\n",
    "        child = parentkey[:]\n",
    "        # swap two characters in the child\n",
    "        child[a],child[b] = child[b],child[a]\n",
    "        deciphered = SimpleSub(child).decipher(ctext)\n",
    "        score = fitness.score(deciphered)\n",
    "        # if the child was better, replace the parent with it\n",
    "        if score > parentscore:\n",
    "            parentscore = score\n",
    "            parentkey = child[:]\n",
    "            count = 0\n",
    "        count = count+1\n",
    "    # keep track of best score seen so far\n",
    "    if parentscore>maxscore:\n",
    "        maxscore,maxkey = parentscore,parentkey[:]\n",
    "        print ('\\nbest score so far:',maxscore,'on iteration',i)\n",
    "        ss = SimpleSub(maxkey)\n",
    "        print ('    best key: '+''.join(maxkey))\n",
    "        print ('    plaintext: '+ss.decipher(ctext))\n",
    "\n"
   ]
  },
 "metadata": {
  "kernelspec": {
   "display_name": "Python 3",
   "language": "python",
   "name": "python3"
  },
  "language_info": {
   "codemirror_mode": {
    "name": "ipython",
    "version": 3
   },
   "file_extension": ".py",
   "mimetype": "text/x-python",
   "name": "python",
   "nbconvert_exporter": "python",
   "pygments_lexer": "ipython3",
   "version": "3.8.1"
  }
 },
 "nbformat": 4,
 "nbformat_minor": 4
}
